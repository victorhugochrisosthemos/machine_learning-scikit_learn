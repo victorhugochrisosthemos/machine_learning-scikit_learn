{
 "cells": [
  {
   "cell_type": "markdown",
   "id": "dcd962fa-0520-4924-8058-f9782da3ac9d",
   "metadata": {},
   "source": [
    "#### Importação do módulos"
   ]
  },
  {
   "cell_type": "code",
   "execution_count": 12,
   "id": "3061fea5-d815-4c47-8b31-fbf4a3728a4c",
   "metadata": {},
   "outputs": [],
   "source": [
    "import warnings\n",
    "warnings.filterwarnings('ignore')\n",
    "\n",
    "import pandas as pd\n",
    "from sklearn.model_selection import train_test_split\n",
    "from sklearn.linear_model import LinearRegression\n",
    "from sklearn import metrics\n",
    "import numpy as np"
   ]
  },
  {
   "cell_type": "code",
   "execution_count": 13,
   "id": "e647fdc2-c0b2-4312-ac67-d432c0dd0221",
   "metadata": {},
   "outputs": [],
   "source": [
    "testes = [['TV','radio','newspaper'], ['radio','newspaper'], ['TV','newspaper'], ['TV','radio']]\n",
    "vencedor = {'teste': '', 'performance': None}\n",
    "primeira_passagem = True\n",
    "publi = pd.read_csv('https://www.statlearning.com/s/Advertising.csv',index_col=0)"
   ]
  },
  {
   "cell_type": "code",
   "execution_count": 16,
   "id": "0f342db8-5805-442c-891a-f8628db9c8e1",
   "metadata": {},
   "outputs": [
    {
     "name": "stdout",
     "output_type": "stream",
     "text": [
      "Teste: \n",
      "['TV', 'radio', 'newspaper']\n",
      "performance: \n",
      "1.5825316802028762\n",
      "------------------------------\n",
      "Teste: \n",
      "['radio', 'newspaper']\n",
      "performance: \n",
      "4.044704848174974\n",
      "------------------------------\n",
      "Teste: \n",
      "['TV', 'newspaper']\n",
      "performance: \n",
      "3.0951606645546454\n",
      "------------------------------\n",
      "Teste: \n",
      "['TV', 'radio']\n",
      "performance: \n",
      "1.5821239241271172\n",
      "------------------------------\n",
      "------------------------------\n",
      "Vencedor: \n",
      "['TV', 'radio']\n",
      "Performance do vencedor: \n",
      "1.5821239241271172\n"
     ]
    }
   ],
   "source": [
    "for teste in testes:\n",
    "    x = publi[teste]\n",
    "    y = publi['sales']\n",
    "    x_train, x_test, y_train, y_test = train_test_split(x, y, test_size=0.3, random_state=5)\n",
    "    reglin = LinearRegression()\n",
    "    reglin.fit(x_train, y_train)\n",
    "    y_prev = reglin.predict(x_test)\n",
    "    rmse = np.sqrt(metrics.mean_squared_error(y_test, y_prev))\n",
    "    print('Teste: ')\n",
    "    print(teste)\n",
    "    print('performance: ')\n",
    "    print(rmse)\n",
    "    print('------------------------------')\n",
    "    if(primeira_passagem):\n",
    "        vencedor['teste'] = teste\n",
    "        vencedor['performance'] = rmse\n",
    "        primeira_passagem = False\n",
    "    else:\n",
    "        if(rmse < vencedor['performance']):\n",
    "            vencedor['teste'] = teste\n",
    "            vencedor['performance'] = rmse\n",
    "print('------------------------------')\n",
    "print('Vencedor: ')\n",
    "print(vencedor['teste'])\n",
    "print('Performance do vencedor: ')\n",
    "print(vencedor['performance'])"
   ]
  },
  {
   "cell_type": "code",
   "execution_count": null,
   "id": "1255fa4e-6744-4aed-921a-b0f85f56b4a3",
   "metadata": {},
   "outputs": [],
   "source": []
  }
 ],
 "metadata": {
  "kernelspec": {
   "display_name": "Python 3 (ipykernel)",
   "language": "python",
   "name": "python3"
  },
  "language_info": {
   "codemirror_mode": {
    "name": "ipython",
    "version": 3
   },
   "file_extension": ".py",
   "mimetype": "text/x-python",
   "name": "python",
   "nbconvert_exporter": "python",
   "pygments_lexer": "ipython3",
   "version": "3.10.4"
  }
 },
 "nbformat": 4,
 "nbformat_minor": 5
}
