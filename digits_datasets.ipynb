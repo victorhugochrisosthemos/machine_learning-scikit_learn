{
 "cells": [
  {
   "cell_type": "code",
   "execution_count": 1,
   "id": "f39715df-818f-46b7-a37a-fc1cc2ef23a1",
   "metadata": {},
   "outputs": [],
   "source": [
    "from sklearn import datasets\n",
    "digits = datasets.load_digits()"
   ]
  },
  {
   "cell_type": "code",
   "execution_count": 3,
   "id": "be9692cd-de43-4738-a225-5566d80f6a13",
   "metadata": {},
   "outputs": [
    {
     "name": "stdout",
     "output_type": "stream",
     "text": [
      "(1797, 64)\n",
      "(1797,)\n"
     ]
    }
   ],
   "source": [
    "print(digits.data.shape)\n",
    "print(digits.target.shape)"
   ]
  },
  {
   "cell_type": "code",
   "execution_count": 10,
   "id": "265fb354-a3db-4969-b817-28aaf976b9ca",
   "metadata": {},
   "outputs": [
    {
     "name": "stdout",
     "output_type": "stream",
     "text": [
      "[ 0.  2. 13. 16. 16. 16. 11.  0.  0.  5. 16. 10.  5.  4.  1.  0.  0.  6.\n",
      " 16.  7.  3.  0.  0.  0.  0.  9. 16. 16. 16.  6.  0.  0.  0.  3.  8.  4.\n",
      " 11. 15.  0.  0.  0.  0.  0.  1. 12. 15.  0.  0.  0.  0.  4. 13. 16.  6.\n",
      "  0.  0.  0.  2. 16. 15.  8.  0.  0.  0.]\n"
     ]
    }
   ],
   "source": [
    "print(digits.data[32])"
   ]
  },
  {
   "cell_type": "markdown",
   "id": "545f6ff1-3e66-4068-b282-f95983e3f5e3",
   "metadata": {},
   "source": [
    "#### Escala de 0 (branco) a 1 (preto)"
   ]
  },
  {
   "cell_type": "code",
   "execution_count": 11,
   "id": "8d479320-a787-475f-87fb-7bdcad81b0d9",
   "metadata": {},
   "outputs": [
    {
     "name": "stdout",
     "output_type": "stream",
     "text": [
      "[[ 0.  2. 13. 16. 16. 16. 11.  0.]\n",
      " [ 0.  5. 16. 10.  5.  4.  1.  0.]\n",
      " [ 0.  6. 16.  7.  3.  0.  0.  0.]\n",
      " [ 0.  9. 16. 16. 16.  6.  0.  0.]\n",
      " [ 0.  3.  8.  4. 11. 15.  0.  0.]\n",
      " [ 0.  0.  0.  1. 12. 15.  0.  0.]\n",
      " [ 0.  0.  4. 13. 16.  6.  0.  0.]\n",
      " [ 0.  2. 16. 15.  8.  0.  0.  0.]]\n"
     ]
    }
   ],
   "source": [
    "print(digits.images[32])"
   ]
  },
  {
   "cell_type": "code",
   "execution_count": 12,
   "id": "c2c3726f-904a-4f37-843f-bf20771e2233",
   "metadata": {},
   "outputs": [
    {
     "data": {
      "text/plain": [
       "<matplotlib.image.AxesImage at 0x2388bf4de70>"
      ]
     },
     "execution_count": 12,
     "metadata": {},
     "output_type": "execute_result"
    },
    {
     "data": {
      "image/png": "[encoded data removed]",
      "text/plain": [
       "<Figure size 144x144 with 1 Axes>"
      ]
     },
     "metadata": {
      "needs_background": "light"
     },
     "output_type": "display_data"
    }
   ],
   "source": [
    "import matplotlib.pyplot as plt\n",
    "%matplotlib inline\n",
    "plt.figure(figsize=(2,2))\n",
    "plt.imshow(digits.images[32], cmap=plt.cm.gray_r)"
   ]
  },
  {
   "cell_type": "markdown",
   "id": "002ad3c9-b892-46ee-8cae-476ff46ffa87",
   "metadata": {},
   "source": [
    "#### Suport Vector Machine"
   ]
  },
  {
   "cell_type": "markdown",
   "id": "6633cbbe-2dcc-4c60-9561-6bfacb84b7ec",
   "metadata": {},
   "source": [
    "É um algoritmo de Machine Learning  supervisionado usado para criar limites entre grupos de dados"
   ]
  },
  {
   "cell_type": "markdown",
   "id": "b2380117-0fd4-4107-abda-bf0552165e4d",
   "metadata": {},
   "source": [
    "Elementos: Hyperplane, margin"
   ]
  },
  {
   "cell_type": "markdown",
   "id": "5ffefe30-5719-48a6-8f32-7e583dcc7091",
   "metadata": {},
   "source": [
    "#### Aplicação do SVM"
   ]
  },
  {
   "cell_type": "code",
   "execution_count": 20,
   "id": "75b9402a-b75f-46f0-9385-0543dbf1a948",
   "metadata": {},
   "outputs": [],
   "source": [
    "from sklearn.model_selection import  train_test_split\n",
    "x = digits.data\n",
    "y = digits.target\n",
    "x_train, x_test, y_train, y_test = train_test_split(x,y, test_size=0.2, random_state=5)"
   ]
  },
  {
   "cell_type": "markdown",
   "id": "001ce008-f9cd-49c4-89d2-3a181d6ff9d2",
   "metadata": {},
   "source": [
    "#### Previsão categórica ou quantitativa?"
   ]
  },
  {
   "cell_type": "code",
   "execution_count": 31,
   "id": "a3422f16-a712-43d8-b8e7-803c3191c04c",
   "metadata": {},
   "outputs": [
    {
     "name": "stdout",
     "output_type": "stream",
     "text": [
      "0.9777777777777777\n"
     ]
    }
   ],
   "source": [
    "from sklearn import svm\n",
    "from sklearn import metrics\n",
    "classifier = svm.SVC()\n",
    "#classifier.fit(x_train, y_train)\n",
    "classifier.fit(x, y)\n",
    "\n",
    "# Para testes\n",
    "#previsoes = classifier.predict(x_test)\n",
    "#acertos = metrics.accuracy_score(y_test, previsoes)\n",
    "print(acertos)"
   ]
  },
  {
   "cell_type": "markdown",
   "id": "860453f3-ba6c-48a0-abd9-c5af5cc3484c",
   "metadata": {},
   "source": [
    "Temos que encontrar o melhor modelo estatístico que se enquadre ao nosso conjunto de dados"
   ]
  },
  {
   "cell_type": "markdown",
   "id": "638c4867-91b4-4898-b0c7-3ef5f4d5b3e4",
   "metadata": {},
   "source": [
    "#### Leitura da Imagem de um dígito"
   ]
  },
  {
   "cell_type": "code",
   "execution_count": 40,
   "id": "9c74e280-3155-4182-9660-592b57c45df1",
   "metadata": {},
   "outputs": [
    {
     "name": "stdout",
     "output_type": "stream",
     "text": [
      "[8]\n"
     ]
    }
   ],
   "source": [
    "import numpy as np\n",
    "import matplotlib.image as mpimg\n",
    "img = mpimg.imread('number2.png')\n",
    "# print(img)\n",
    "# Cores  formadas pelo sistema RGB. Valores relacionados: vermelho-verde-azul\n",
    "def rgb2gray(rgb):\n",
    "    img_array = np.dot(rgb[...,:3], [0.299, 0.587, 0.114])\n",
    "    img_array = (16 - img_array * 16).astype(int)\n",
    "    img_array = img_array.flatten()\n",
    "    #print(type(img_array.shape))\n",
    "    return img_array\n",
    "    \n",
    "\n",
    "previsao = classifier.predict([rgb2gray(img)])\n",
    "print(previsao)"
   ]
  },
  {
   "cell_type": "markdown",
   "id": "6d776f29-47bd-4dd5-838e-a1e1d08e7982",
   "metadata": {},
   "source": [
    "### Teste com regressão logística"
   ]
  },
  {
   "cell_type": "code",
   "execution_count": 41,
   "id": "075907ff-96ad-4550-aeda-ce3421e31139",
   "metadata": {},
   "outputs": [
    {
     "name": "stdout",
     "output_type": "stream",
     "text": [
      "[8]\n"
     ]
    },
    {
     "name": "stderr",
     "output_type": "stream",
     "text": [
      "C:\\Users\\Victor\\AppData\\Local\\Programs\\Python\\Python310\\lib\\site-packages\\sklearn\\linear_model\\_logistic.py:469: ConvergenceWarning: lbfgs failed to converge (status=1):\n",
      "STOP: TOTAL NO. of ITERATIONS REACHED LIMIT.\n",
      "\n",
      "Increase the number of iterations (max_iter) or scale the data as shown in:\n",
      "    https://scikit-learn.org/stable/modules/preprocessing.html\n",
      "Please also refer to the documentation for alternative solver options:\n",
      "    https://scikit-learn.org/stable/modules/linear_model.html#logistic-regression\n",
      "  n_iter_i = _check_optimize_result(\n"
     ]
    }
   ],
   "source": [
    "from sklearn.linear_model import LogisticRegression\n",
    "logreg = LogisticRegression()\n",
    "logreg.fit(x, y)\n",
    "previsao_logreg = logreg.predict([rgb2gray(img)])\n",
    "print(previsao_logreg)"
   ]
  },
  {
   "cell_type": "code",
   "execution_count": null,
   "id": "3992b9d4-12ce-477f-83fb-e719534c992b",
   "metadata": {},
   "outputs": [],
   "source": []
  }
 ],
 "metadata": {
  "kernelspec": {
   "display_name": "Python 3 (ipykernel)",
   "language": "python",
   "name": "python3"
  },
  "language_info": {
   "codemirror_mode": {
    "name": "ipython",
    "version": 3
   },
   "file_extension": ".py",
   "mimetype": "text/x-python",
   "name": "python",
   "nbconvert_exporter": "python",
   "pygments_lexer": "ipython3",
   "version": "3.10.4"
  }
 },
 "nbformat": 4,
 "nbformat_minor": 5
}
